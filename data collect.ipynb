{
 "cells": [
  {
   "cell_type": "code",
   "execution_count": 1,
   "metadata": {},
   "outputs": [],
   "source": [
    "from riotwatcher import LolWatcher, ApiError\n",
    "import pandas as pd\n",
    "import numpy as np \n",
    "import os\n",
    "import sqlite3\n",
    "from time import sleep"
   ]
  },
  {
   "cell_type": "code",
   "execution_count": 2,
   "metadata": {},
   "outputs": [],
   "source": [
    "API_KEY = os.getenv(\"API_KEY\")\n",
    "watcher = LolWatcher(API_KEY)\n",
    "region = 'NA1' "
   ]
  },
  {
   "cell_type": "code",
   "execution_count": 3,
   "metadata": {},
   "outputs": [],
   "source": [
    "connection = sqlite3.connect(\"riot_matches2.db\")\n",
    "create_match_table = \"\"\"CREATE TABLE IF NOT EXISTS match (\n",
    "id INTEGER PRIMARY KEY,\n",
    "game_id TEXT,\n",
    "blue_dragons INTEGER,\n",
    "blue_heralds INTEGER,\n",
    "blue_barons INTEGER,\n",
    "blue_turrets INTEGER,\n",
    "blue_kills INTEGER,\n",
    "blue_gold_20 INTEGER,\n",
    "red_dragons INTEGER,\n",
    "red_heralds INTEGER,\n",
    "red_barons INTEGER,\n",
    "red_turrets INTEGER,\n",
    "red_kills INTEGER,\n",
    "red_gold_20 INTEGER,\n",
    "winner TEXT\n",
    ")\"\"\"\n",
    "\n",
    "cur = connection.cursor()\n",
    "cur.execute(create_match_table)\n",
    "insert_match = \"INSERT OR IGNORE INTO match (game_id, blue_dragons, blue_heralds, blue_barons, blue_turrets, blue_kills, blue_gold_20, red_dragons, red_heralds, red_barons, red_turrets, red_kills, red_gold_20, winner) VALUES (?, ?, ?, ?, ?, ?, ?, ?, ?, ?, ?, ?, ?, ?)\""
   ]
  },
  {
   "cell_type": "code",
   "execution_count": 4,
   "metadata": {},
   "outputs": [],
   "source": [
    "challenger_dto = watcher.league.challenger_by_queue(region, queue=\"RANKED_SOLO_5x5\")\n",
    "challenger_players = challenger_dto[\"entries\"]\n",
    "\n",
    "grandmaster_dto = watcher.league.grandmaster_by_queue(region, queue=\"RANKED_SOLO_5x5\")\n",
    "grandmaster_players = grandmaster_dto[\"entries\"]\n",
    "\n",
    "master_dto = watcher.league.masters_by_queue(region, queue=\"RANKED_SOLO_5x5\")\n",
    "master_players = master_dto[\"entries\"]"
   ]
  },
  {
   "cell_type": "code",
   "execution_count": 5,
   "metadata": {},
   "outputs": [
    {
     "name": "stdout",
     "output_type": "stream",
     "text": [
      "Length:  6453\n"
     ]
    },
    {
     "data": {
      "text/plain": [
       "['IIrrooGG', 'zi du', 'Douzheng', 'AMT', 'Dantes']"
      ]
     },
     "execution_count": 5,
     "metadata": {},
     "output_type": "execute_result"
    }
   ],
   "source": [
    "high_elo_players = []\n",
    "for summoner in challenger_players:\n",
    "    high_elo_players.append(summoner[\"summonerName\"])\n",
    "    \n",
    "for summoner in grandmaster_players:\n",
    "    high_elo_players.append(summoner[\"summonerName\"])\n",
    "\n",
    "for summoner in master_players:\n",
    "    high_elo_players.append(summoner[\"summonerName\"])\n",
    "    \n",
    "print(\"Length: \", len(high_elo_players))\n",
    "high_elo_players[0:5]"
   ]
  },
  {
   "cell_type": "code",
   "execution_count": 6,
   "metadata": {},
   "outputs": [],
   "source": [
    "def get_summoner_uid(name):\n",
    "    try:\n",
    "        summoner = watcher.summoner.by_name(region, name)\n",
    "    except ApiError:\n",
    "        return \"No summoner found\"\n",
    "    return summoner[\"puuid\"]"
   ]
  },
  {
   "cell_type": "code",
   "execution_count": 7,
   "metadata": {},
   "outputs": [],
   "source": [
    "def get_data_from_match(player_uid):\n",
    "    \n",
    "    match_list = watcher.match.matchlist_by_puuid('americas', player_uid, queue=420, type=\"ranked\")\n",
    "    \n",
    "    for match in match_list:\n",
    "        game_timeline = watcher.match.timeline_by_match('americas', match)\n",
    "        game_details = watcher.match.by_id('americas', match)\n",
    "        if game_details[\"info\"][\"participants\"][0][\"win\"] == True:\n",
    "            winner = \"Team 1\"\n",
    "        else:\n",
    "            winner = \"Team 2\"\n",
    "                \n",
    "       \n",
    "        if len(game_timeline['info']['frames']) < 22:\n",
    "            # print(\"less than 20\")\n",
    "            continue \n",
    "        # print(\"more than 20\")\n",
    "        frames =  game_timeline['info']['frames'][:22]\n",
    "        \n",
    "        # get gold diff \n",
    "        gold = {}\n",
    "        for k in range(len(frames)):\n",
    "            gold['{}'.format(k)] = {}\n",
    "        for value in gold.values():\n",
    "            for l in range(1, 11):\n",
    "                value['{}'.format(l)] = 0\n",
    "\n",
    "        for m in range(len(frames)):\n",
    "            for n in range(1, 11):\n",
    "                gold['{}'.format(m)]['{}'.format(n)] = game_timeline['info']['frames'][m]['participantFrames']['{}'.format(n)]['totalGold']\n",
    "\n",
    "        blue_gold = []\n",
    "        red_gold = []\n",
    "        \n",
    "        for key in gold.keys():\n",
    "            team1 = 0\n",
    "            team2 = 0\n",
    "            for o in range(1, 6):\n",
    "                team1 += gold[key]['{}'.format(o)]\n",
    "                team2 += gold[key]['{}'.format(o + 5)]\n",
    "            blue_gold.append(team1)\n",
    "            red_gold.append(team2)\n",
    "\n",
    "        # gold_diff = (np.array(team_1_gold) - np.array(team_2_gold)).tolist()\n",
    "        \n",
    "        \n",
    "        blue_dragons = 0\n",
    "        blue_heralds = 0\n",
    "        red_dragons = 0\n",
    "        red_heralds = 0\n",
    "        blue_barons = 0\n",
    "        red_barons = 0\n",
    "\n",
    "        for frame in frames:\n",
    "            for event in frame[\"events\"]:\n",
    "                if \"monsterType\" in event.keys():\n",
    "                    if event[\"monsterType\"] == \"DRAGON\":\n",
    "                        if event[\"killerTeamId\"] == 100:\n",
    "                            blue_dragons += 1\n",
    "                        else:\n",
    "                            red_dragons += 1\n",
    "                    if event[\"monsterType\"] == \"RIFTHERALD\":\n",
    "                        if event[\"killerTeamId\"] == 100:\n",
    "                            blue_heralds += 1\n",
    "                        else:\n",
    "                            red_heralds += 1\n",
    "                    if event[\"monsterType\"] == \"BARON_NASHOR\":\n",
    "                        if event[\"killerTeamId\"] == 100:\n",
    "                            blue_barons += 1\n",
    "                        else:\n",
    "                            red_barons += 1\n",
    "          \n",
    "        # print(match, blue_gold[-1], red_gold[-1], blue_dragons, blue_heralds, blue_barons, red_dragons, red_heralds, red_barons)\n",
    "        \n",
    "        blue_k = 0 # blue side (bottom)\n",
    "        red_k = 0 # red side (top)\n",
    "\n",
    "        for frame in frames:\n",
    "            for event in frame[\"events\"]:\n",
    "                if \"victimId\" in event.keys():\n",
    "                    if event[\"type\"] == \"CHAMPION_KILL\":\n",
    "                        if event[\"killerId\"] == 0:\n",
    "                            continue\n",
    "                        if 1 <= event[\"killerId\"] <= 5:\n",
    "                            blue_k += 1\n",
    "                        else:\n",
    "                            red_k += 1\n",
    "                            \n",
    "        blue_obj = 0\n",
    "        red_obj = 0\n",
    "        for frame in frames:\n",
    "            for event in frame[\"events\"]:\n",
    "                if \"buildingType\" in event.keys():\n",
    "                    if event[\"teamId\"] == 100:\n",
    "                        red_obj += 1\n",
    "                    else:\n",
    "                        blue_obj += 1\n",
    "        \n",
    "        # print(match, blue_dragons, blue_heralds, blue_barons, blue_obj, blue_k, blue_gold[-1], red_dragons, red_heralds, red_barons, red_obj, red_k, red_gold[-1], winner)\n",
    "        cur.execute(insert_match, (match, blue_dragons, blue_heralds, blue_barons, blue_obj, blue_k, blue_gold[-1], red_dragons, red_heralds, red_barons, red_obj, red_k, red_gold[-1], winner))\n",
    "        connection.commit()\n",
    "        sleep(0.84)\n",
    "        "
   ]
  },
  {
   "cell_type": "code",
   "execution_count": 8,
   "metadata": {},
   "outputs": [],
   "source": [
    "for name in high_elo_players:\n",
    "    player_uid = get_summoner_uid(name)\n",
    "    if player_uid == \"No summoner\":\n",
    "        continue\n",
    "    try:\n",
    "        get_data_from_match(player_uid)\n",
    "    except:\n",
    "        continue"
   ]
  },
  {
   "cell_type": "code",
   "execution_count": null,
   "metadata": {},
   "outputs": [],
   "source": [
    "print(\"finished gathering data\")"
   ]
  }
 ],
 "metadata": {
  "kernelspec": {
   "display_name": "python39",
   "language": "python",
   "name": "python3"
  },
  "language_info": {
   "codemirror_mode": {
    "name": "ipython",
    "version": 3
   },
   "file_extension": ".py",
   "mimetype": "text/x-python",
   "name": "python",
   "nbconvert_exporter": "python",
   "pygments_lexer": "ipython3",
   "version": "3.9.16"
  },
  "orig_nbformat": 4
 },
 "nbformat": 4,
 "nbformat_minor": 2
}
